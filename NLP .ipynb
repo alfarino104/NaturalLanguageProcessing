{
 "cells": [
  {
   "cell_type": "code",
   "execution_count": null,
   "id": "8f107dfe",
   "metadata": {},
   "outputs": [],
   "source": []
  },
  {
   "cell_type": "code",
   "execution_count": 29,
   "id": "9ff147db",
   "metadata": {},
   "outputs": [
    {
     "data": {
      "text/plain": [
       "'Indonesia has entered into an agreement with neighboring Singapore to promote sustainability and develop its green and digital economies. It is hoped this will further the energy transition in both countries. Such cooperation could also help efforts to build Indonesia’s new “green and smart” capital city in Nusantara in East Kalimantan, which will replace the current capital Jakarta. The Asian Development Bank has pledged to help Indonesia plan the relocated city as carbon neutral and inclusive, while protecting the surrounding rainforest.'"
      ]
     },
     "execution_count": 29,
     "metadata": {},
     "output_type": "execute_result"
    }
   ],
   "source": [
    "#import the text\n",
    "text = \"Indonesia has entered into an agreement with neighboring Singapore to promote sustainability and develop its green and digital economies. It is hoped this will further the energy transition in both countries. Such cooperation could also help efforts to build Indonesia’s new “green and smart” capital city in Nusantara in East Kalimantan, which will replace the current capital Jakarta. The Asian Development Bank has pledged to help Indonesia plan the relocated city as carbon neutral and inclusive, while protecting the surrounding rainforest.\"\n",
    "text"
   ]
  },
  {
   "cell_type": "markdown",
   "id": "60def766",
   "metadata": {},
   "source": [
    "SEGMENTATION"
   ]
  },
  {
   "cell_type": "code",
   "execution_count": 4,
   "id": "e2fbae6b",
   "metadata": {},
   "outputs": [
    {
     "name": "stderr",
     "output_type": "stream",
     "text": [
      "[nltk_data] Downloading package punkt to\n",
      "[nltk_data]     C:\\Users\\Alfarino\\AppData\\Roaming\\nltk_data...\n",
      "[nltk_data]   Unzipping tokenizers\\punkt.zip.\n"
     ]
    }
   ],
   "source": [
    "import nltk \n",
    "nltk.download('punkt')\n",
    "from nltk.tokenize import sent_tokenize"
   ]
  },
  {
   "cell_type": "code",
   "execution_count": 9,
   "id": "433a9dff",
   "metadata": {},
   "outputs": [
    {
     "data": {
      "text/plain": [
       "['Indonesia has entered into an agreement with neighboring Singapore to promote sustainability and develop its green and digital economies.',\n",
       " 'It is hoped this will further the energy transition in both countries.',\n",
       " 'Such cooperation could also help efforts to build Indonesia’s new “green and smart” capital city in Nusantara in East Kalimantan, which will replace the current capital Jakarta.',\n",
       " 'The Asian Development Bank has pledged to help Indonesia plan the relocated city as carbon neutral and inclusive, while protecting the surrounding rainforest.']"
      ]
     },
     "execution_count": 9,
     "metadata": {},
     "output_type": "execute_result"
    }
   ],
   "source": [
    "#Split the text into sentences\n",
    "sentences= sent_tokenize(text)\n",
    "sentences"
   ]
  },
  {
   "cell_type": "code",
   "execution_count": 12,
   "id": "2fc49504",
   "metadata": {},
   "outputs": [
    {
     "data": {
      "text/plain": [
       "'Indonesia has entered into an agreement with neighboring Singapore to promote sustainability and develop its green and digital economies '"
      ]
     },
     "execution_count": 12,
     "metadata": {},
     "output_type": "execute_result"
    }
   ],
   "source": [
    "#Punctuation removal \n",
    "import re\n",
    "\n",
    "#Removal the punctuation characters\n",
    "text= re.sub(r\"[^a-zA-Z0-9]\",\" \",sentences[0])\n",
    "text"
   ]
  },
  {
   "cell_type": "markdown",
   "id": "57c65349",
   "metadata": {},
   "source": [
    "Tokenization"
   ]
  },
  {
   "cell_type": "code",
   "execution_count": 13,
   "id": "ca6c9094",
   "metadata": {},
   "outputs": [],
   "source": [
    "from nltk.tokenize import word_tokenize"
   ]
  },
  {
   "cell_type": "code",
   "execution_count": 14,
   "id": "4a6a5893",
   "metadata": {},
   "outputs": [
    {
     "name": "stdout",
     "output_type": "stream",
     "text": [
      "['Indonesia', 'has', 'entered', 'into', 'an', 'agreement', 'with', 'neighboring', 'Singapore', 'to', 'promote', 'sustainability', 'and', 'develop', 'its', 'green', 'and', 'digital', 'economies']\n"
     ]
    }
   ],
   "source": [
    "words= word_tokenize(text)\n",
    "print(words)"
   ]
  },
  {
   "cell_type": "markdown",
   "id": "01beb053",
   "metadata": {},
   "source": [
    "Remove the Stop Words"
   ]
  },
  {
   "cell_type": "code",
   "execution_count": 15,
   "id": "1eb3c064",
   "metadata": {},
   "outputs": [
    {
     "name": "stderr",
     "output_type": "stream",
     "text": [
      "[nltk_data] Downloading package stopwords to\n",
      "[nltk_data]     C:\\Users\\Alfarino\\AppData\\Roaming\\nltk_data...\n",
      "[nltk_data]   Unzipping corpora\\stopwords.zip.\n"
     ]
    }
   ],
   "source": [
    "nltk.download('stopwords')\n",
    "from nltk.corpus import stopwords"
   ]
  },
  {
   "cell_type": "code",
   "execution_count": 17,
   "id": "ed86e04a",
   "metadata": {},
   "outputs": [
    {
     "name": "stdout",
     "output_type": "stream",
     "text": [
      "['Indonesia', 'entered', 'agreement', 'neighboring', 'Singapore', 'promote', 'sustainability', 'develop', 'green', 'digital', 'economies']\n"
     ]
    }
   ],
   "source": [
    "#Removing the stop words\n",
    "words= [w for w in words if w not in stopwords.words(\"english\")] #list comprehension and stopwords\n",
    "print(words)"
   ]
  },
  {
   "cell_type": "markdown",
   "id": "b24903a5",
   "metadata": {},
   "source": [
    "STEMMING"
   ]
  },
  {
   "cell_type": "code",
   "execution_count": 20,
   "id": "0600a870",
   "metadata": {},
   "outputs": [
    {
     "name": "stderr",
     "output_type": "stream",
     "text": [
      "[nltk_data] Downloading package wordnet to\n",
      "[nltk_data]     C:\\Users\\Alfarino\\AppData\\Roaming\\nltk_data...\n",
      "[nltk_data]   Package wordnet is already up-to-date!\n",
      "[nltk_data] Downloading package omw-1.4 to\n",
      "[nltk_data]     C:\\Users\\Alfarino\\AppData\\Roaming\\nltk_data...\n"
     ]
    },
    {
     "data": {
      "text/plain": [
       "True"
      ]
     },
     "execution_count": 20,
     "metadata": {},
     "output_type": "execute_result"
    }
   ],
   "source": [
    "nltk.download('wordnet')\n",
    "nltk.download('omw-1.4')"
   ]
  },
  {
   "cell_type": "code",
   "execution_count": 23,
   "id": "d933710d",
   "metadata": {},
   "outputs": [
    {
     "name": "stdout",
     "output_type": "stream",
     "text": [
      "['indonesia', 'enter', 'agreement', 'neighbor', 'singapor', 'promot', 'sustain', 'develop', 'green', 'digit', 'economi']\n"
     ]
    }
   ],
   "source": [
    "from nltk.stem.porter import PorterStemmer\n",
    "\n",
    "#Reducing words to their stem \n",
    "stemmed= [PorterStemmer().stem(w) for w in words]\n",
    "print(stemmed)"
   ]
  },
  {
   "cell_type": "markdown",
   "id": "aa99a343",
   "metadata": {},
   "source": [
    "LEMMATIZE"
   ]
  },
  {
   "cell_type": "code",
   "execution_count": 24,
   "id": "a475d203",
   "metadata": {},
   "outputs": [
    {
     "name": "stdout",
     "output_type": "stream",
     "text": [
      "['Indonesia', 'entered', 'agreement', 'neighboring', 'Singapore', 'promote', 'sustainability', 'develop', 'green', 'digital', 'economy']\n"
     ]
    }
   ],
   "source": [
    "from nltk.stem.wordnet import WordNetLemmatizer\n",
    "\n",
    "#Reduce the words to their root form\n",
    "lemmatized= [WordNetLemmatizer().lemmatize(w) for w in words]\n",
    "print(lemmatized)"
   ]
  },
  {
   "cell_type": "markdown",
   "id": "642860bf",
   "metadata": {},
   "source": [
    "SPEECH TAGGING"
   ]
  },
  {
   "cell_type": "code",
   "execution_count": 25,
   "id": "60e9f511",
   "metadata": {},
   "outputs": [
    {
     "name": "stderr",
     "output_type": "stream",
     "text": [
      "[nltk_data] Downloading package averaged_perceptron_tagger to\n",
      "[nltk_data]     C:\\Users\\Alfarino\\AppData\\Roaming\\nltk_data...\n",
      "[nltk_data]   Unzipping taggers\\averaged_perceptron_tagger.zip.\n",
      "[nltk_data] Downloading package maxent_ne_chunker to\n",
      "[nltk_data]     C:\\Users\\Alfarino\\AppData\\Roaming\\nltk_data...\n",
      "[nltk_data]   Unzipping chunkers\\maxent_ne_chunker.zip.\n"
     ]
    },
    {
     "data": {
      "text/plain": [
       "True"
      ]
     },
     "execution_count": 25,
     "metadata": {},
     "output_type": "execute_result"
    }
   ],
   "source": [
    "nltk.download('averaged_perceptron_tagger')\n",
    "nltk.download('maxent_ne_chunker')"
   ]
  },
  {
   "cell_type": "code",
   "execution_count": 26,
   "id": "5a7014a5",
   "metadata": {},
   "outputs": [
    {
     "data": {
      "text/plain": [
       "[('Indonesia', 'NN'),\n",
       " ('entered', 'VBD'),\n",
       " ('agreement', 'NN'),\n",
       " ('neighboring', 'VBG'),\n",
       " ('Singapore', 'NNP'),\n",
       " ('promote', 'NN'),\n",
       " ('sustainability', 'NN'),\n",
       " ('develop', 'VBP'),\n",
       " ('green', 'JJ'),\n",
       " ('digital', 'JJ'),\n",
       " ('economies', 'NNS')]"
      ]
     },
     "execution_count": 26,
     "metadata": {},
     "output_type": "execute_result"
    }
   ],
   "source": [
    "from nltk import pos_tag\n",
    "\n",
    "#tagging each word with part of speech\n",
    "pos_tag(words)"
   ]
  },
  {
   "cell_type": "markdown",
   "id": "23590c90",
   "metadata": {},
   "source": [
    "NAMED ENTITY RECOGNITION"
   ]
  },
  {
   "cell_type": "code",
   "execution_count": 27,
   "id": "1b0e958b",
   "metadata": {},
   "outputs": [
    {
     "name": "stderr",
     "output_type": "stream",
     "text": [
      "[nltk_data] Downloading package words to\n",
      "[nltk_data]     C:\\Users\\Alfarino\\AppData\\Roaming\\nltk_data...\n",
      "[nltk_data]   Unzipping corpora\\words.zip.\n"
     ]
    },
    {
     "data": {
      "text/plain": [
       "True"
      ]
     },
     "execution_count": 27,
     "metadata": {},
     "output_type": "execute_result"
    }
   ],
   "source": [
    "from nltk import ne_chunk\n",
    "nltk.download('words')"
   ]
  },
  {
   "cell_type": "code",
   "execution_count": 28,
   "id": "54b93f9d",
   "metadata": {},
   "outputs": [
    {
     "name": "stdout",
     "output_type": "stream",
     "text": [
      "(S\n",
      "  (GPE Indonesia/NNP)\n",
      "  has/VBZ\n",
      "  entered/VBN\n",
      "  into/IN\n",
      "  an/DT\n",
      "  agreement/NN\n",
      "  with/IN\n",
      "  neighboring/VBG\n",
      "  (GPE Singapore/NNP)\n",
      "  to/TO\n",
      "  promote/VB\n",
      "  sustainability/NN\n",
      "  and/CC\n",
      "  develop/VB\n",
      "  its/PRP$\n",
      "  green/JJ\n",
      "  and/CC\n",
      "  digital/JJ\n",
      "  economies/NNS\n",
      "  ./.)\n"
     ]
    }
   ],
   "source": [
    "ner_tree= ne_chunk(pos_tag(word_tokenize(sentences[0])))\n",
    "print(ner_tree)"
   ]
  },
  {
   "cell_type": "code",
   "execution_count": null,
   "id": "54c603a2",
   "metadata": {},
   "outputs": [],
   "source": []
  }
 ],
 "metadata": {
  "kernelspec": {
   "display_name": "Python [conda env:belajartensor]",
   "language": "python",
   "name": "conda-env-belajartensor-py"
  },
  "language_info": {
   "codemirror_mode": {
    "name": "ipython",
    "version": 3
   },
   "file_extension": ".py",
   "mimetype": "text/x-python",
   "name": "python",
   "nbconvert_exporter": "python",
   "pygments_lexer": "ipython3",
   "version": "3.10.11"
  }
 },
 "nbformat": 4,
 "nbformat_minor": 5
}
